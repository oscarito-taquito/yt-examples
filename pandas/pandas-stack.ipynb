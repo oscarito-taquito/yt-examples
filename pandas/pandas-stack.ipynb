{
 "metadata": {
  "language_info": {
   "codemirror_mode": {
    "name": "ipython",
    "version": 3
   },
   "file_extension": ".py",
   "mimetype": "text/x-python",
   "name": "python",
   "nbconvert_exporter": "python",
   "pygments_lexer": "ipython3",
   "version": "3.6.9-final"
  },
  "orig_nbformat": 2,
  "kernelspec": {
   "name": "python_defaultSpec_1598833021104",
   "display_name": "Python 3.6.9 64-bit"
  }
 },
 "nbformat": 4,
 "nbformat_minor": 2,
 "cells": [
  {
   "cell_type": "markdown",
   "metadata": {},
   "source": [
    "### dataset source:\n",
    "https://data.world/data-society/imdb-5000-movie-dataset"
   ]
  },
  {
   "cell_type": "code",
   "execution_count": 20,
   "metadata": {},
   "outputs": [],
   "source": [
    "import pandas as pd"
   ]
  },
  {
   "cell_type": "code",
   "execution_count": 21,
   "metadata": {},
   "outputs": [
    {
     "output_type": "execute_result",
     "data": {
      "text/plain": "   color   director_name  num_critic_for_reviews  duration  \\\n0  Color   James Cameron                   723.0     178.0   \n1  Color  Gore Verbinski                   302.0     169.0   \n\n   director_facebook_likes  actor_3_facebook_likes      actor_2_name  \\\n0                      0.0                   855.0  Joel David Moore   \n1                    563.0                  1000.0     Orlando Bloom   \n\n   actor_1_facebook_likes        gross                           genres  \\\n0                  1000.0  760505847.0  Action|Adventure|Fantasy|Sci-Fi   \n1                 40000.0  309404152.0         Action|Adventure|Fantasy   \n\n          ...          num_user_for_reviews language  country  content_rating  \\\n0         ...                        3054.0  English      USA           PG-13   \n1         ...                        1238.0  English      USA           PG-13   \n\n        budget  title_year actor_2_facebook_likes imdb_score  aspect_ratio  \\\n0  237000000.0      2009.0                  936.0        7.9          1.78   \n1  300000000.0      2007.0                 5000.0        7.1          2.35   \n\n  movie_facebook_likes  \n0                33000  \n1                    0  \n\n[2 rows x 28 columns]",
      "text/html": "<div>\n<style scoped>\n    .dataframe tbody tr th:only-of-type {\n        vertical-align: middle;\n    }\n\n    .dataframe tbody tr th {\n        vertical-align: top;\n    }\n\n    .dataframe thead th {\n        text-align: right;\n    }\n</style>\n<table border=\"1\" class=\"dataframe\">\n  <thead>\n    <tr style=\"text-align: right;\">\n      <th></th>\n      <th>color</th>\n      <th>director_name</th>\n      <th>num_critic_for_reviews</th>\n      <th>duration</th>\n      <th>director_facebook_likes</th>\n      <th>actor_3_facebook_likes</th>\n      <th>actor_2_name</th>\n      <th>actor_1_facebook_likes</th>\n      <th>gross</th>\n      <th>genres</th>\n      <th>...</th>\n      <th>num_user_for_reviews</th>\n      <th>language</th>\n      <th>country</th>\n      <th>content_rating</th>\n      <th>budget</th>\n      <th>title_year</th>\n      <th>actor_2_facebook_likes</th>\n      <th>imdb_score</th>\n      <th>aspect_ratio</th>\n      <th>movie_facebook_likes</th>\n    </tr>\n  </thead>\n  <tbody>\n    <tr>\n      <th>0</th>\n      <td>Color</td>\n      <td>James Cameron</td>\n      <td>723.0</td>\n      <td>178.0</td>\n      <td>0.0</td>\n      <td>855.0</td>\n      <td>Joel David Moore</td>\n      <td>1000.0</td>\n      <td>760505847.0</td>\n      <td>Action|Adventure|Fantasy|Sci-Fi</td>\n      <td>...</td>\n      <td>3054.0</td>\n      <td>English</td>\n      <td>USA</td>\n      <td>PG-13</td>\n      <td>237000000.0</td>\n      <td>2009.0</td>\n      <td>936.0</td>\n      <td>7.9</td>\n      <td>1.78</td>\n      <td>33000</td>\n    </tr>\n    <tr>\n      <th>1</th>\n      <td>Color</td>\n      <td>Gore Verbinski</td>\n      <td>302.0</td>\n      <td>169.0</td>\n      <td>563.0</td>\n      <td>1000.0</td>\n      <td>Orlando Bloom</td>\n      <td>40000.0</td>\n      <td>309404152.0</td>\n      <td>Action|Adventure|Fantasy</td>\n      <td>...</td>\n      <td>1238.0</td>\n      <td>English</td>\n      <td>USA</td>\n      <td>PG-13</td>\n      <td>300000000.0</td>\n      <td>2007.0</td>\n      <td>5000.0</td>\n      <td>7.1</td>\n      <td>2.35</td>\n      <td>0</td>\n    </tr>\n  </tbody>\n</table>\n<p>2 rows × 28 columns</p>\n</div>"
     },
     "metadata": {},
     "execution_count": 21
    }
   ],
   "source": [
    "movie_data = pd.read_csv('data/movie_metadata.csv')\n",
    "movie_data.head(2)"
   ]
  },
  {
   "cell_type": "code",
   "execution_count": 22,
   "metadata": {},
   "outputs": [
    {
     "output_type": "execute_result",
     "data": {
      "text/plain": "['actor_1_facebook_likes',\n 'actor_1_name',\n 'actor_2_facebook_likes',\n 'actor_2_name',\n 'actor_3_facebook_likes',\n 'actor_3_name',\n 'aspect_ratio',\n 'budget',\n 'cast_total_facebook_likes',\n 'color',\n 'content_rating',\n 'country',\n 'director_facebook_likes',\n 'director_name',\n 'duration',\n 'facenumber_in_poster',\n 'genres',\n 'gross',\n 'imdb_score',\n 'language',\n 'movie_facebook_likes',\n 'movie_imdb_link',\n 'movie_title',\n 'num_critic_for_reviews',\n 'num_user_for_reviews',\n 'num_voted_users',\n 'plot_keywords',\n 'title_year']"
     },
     "metadata": {},
     "execution_count": 22
    }
   ],
   "source": [
    "sorted(movie_data.columns)"
   ]
  },
  {
   "cell_type": "code",
   "execution_count": 23,
   "metadata": {},
   "outputs": [],
   "source": [
    "cols  = ['movie_title','actor_1_name','actor_2_name','actor_3_name']"
   ]
  },
  {
   "cell_type": "code",
   "execution_count": 24,
   "metadata": {},
   "outputs": [
    {
     "output_type": "execute_result",
     "data": {
      "text/plain": "                                 movie_title     actor_1_name  \\\n0                                    Avatar       CCH Pounder   \n1  Pirates of the Caribbean: At World's End       Johnny Depp   \n2                                   Spectre   Christoph Waltz   \n\n       actor_2_name      actor_3_name  \n0  Joel David Moore         Wes Studi  \n1     Orlando Bloom    Jack Davenport  \n2      Rory Kinnear  Stephanie Sigman  ",
      "text/html": "<div>\n<style scoped>\n    .dataframe tbody tr th:only-of-type {\n        vertical-align: middle;\n    }\n\n    .dataframe tbody tr th {\n        vertical-align: top;\n    }\n\n    .dataframe thead th {\n        text-align: right;\n    }\n</style>\n<table border=\"1\" class=\"dataframe\">\n  <thead>\n    <tr style=\"text-align: right;\">\n      <th></th>\n      <th>movie_title</th>\n      <th>actor_1_name</th>\n      <th>actor_2_name</th>\n      <th>actor_3_name</th>\n    </tr>\n  </thead>\n  <tbody>\n    <tr>\n      <th>0</th>\n      <td>Avatar</td>\n      <td>CCH Pounder</td>\n      <td>Joel David Moore</td>\n      <td>Wes Studi</td>\n    </tr>\n    <tr>\n      <th>1</th>\n      <td>Pirates of the Caribbean: At World's End</td>\n      <td>Johnny Depp</td>\n      <td>Orlando Bloom</td>\n      <td>Jack Davenport</td>\n    </tr>\n    <tr>\n      <th>2</th>\n      <td>Spectre</td>\n      <td>Christoph Waltz</td>\n      <td>Rory Kinnear</td>\n      <td>Stephanie Sigman</td>\n    </tr>\n  </tbody>\n</table>\n</div>"
     },
     "metadata": {},
     "execution_count": 24
    }
   ],
   "source": [
    "movie_data[cols].head(3)"
   ]
  },
  {
   "cell_type": "code",
   "execution_count": 25,
   "metadata": {},
   "outputs": [
    {
     "output_type": "execute_result",
     "data": {
      "text/plain": "                                                       actor_1_name  \\\nmovie_title                                                           \nAvatar                                                  CCH Pounder   \nPirates of the Caribbean: At World's End                Johnny Depp   \nSpectre                                             Christoph Waltz   \nThe Dark Knight Rises                                     Tom Hardy   \nStar Wars: Episode VII - The Force Awakens     ...      Doug Walker   \n\n                                                        actor_2_name  \\\nmovie_title                                                            \nAvatar                                              Joel David Moore   \nPirates of the Caribbean: At World's End               Orlando Bloom   \nSpectre                                                 Rory Kinnear   \nThe Dark Knight Rises                                 Christian Bale   \nStar Wars: Episode VII - The Force Awakens     ...        Rob Walker   \n\n                                                            actor_3_name  \nmovie_title                                                               \nAvatar                                                         Wes Studi  \nPirates of the Caribbean: At World's End                  Jack Davenport  \nSpectre                                                 Stephanie Sigman  \nThe Dark Knight Rises                               Joseph Gordon-Levitt  \nStar Wars: Episode VII - The Force Awakens     ...                   NaN  ",
      "text/html": "<div>\n<style scoped>\n    .dataframe tbody tr th:only-of-type {\n        vertical-align: middle;\n    }\n\n    .dataframe tbody tr th {\n        vertical-align: top;\n    }\n\n    .dataframe thead th {\n        text-align: right;\n    }\n</style>\n<table border=\"1\" class=\"dataframe\">\n  <thead>\n    <tr style=\"text-align: right;\">\n      <th></th>\n      <th>actor_1_name</th>\n      <th>actor_2_name</th>\n      <th>actor_3_name</th>\n    </tr>\n    <tr>\n      <th>movie_title</th>\n      <th></th>\n      <th></th>\n      <th></th>\n    </tr>\n  </thead>\n  <tbody>\n    <tr>\n      <th>Avatar</th>\n      <td>CCH Pounder</td>\n      <td>Joel David Moore</td>\n      <td>Wes Studi</td>\n    </tr>\n    <tr>\n      <th>Pirates of the Caribbean: At World's End</th>\n      <td>Johnny Depp</td>\n      <td>Orlando Bloom</td>\n      <td>Jack Davenport</td>\n    </tr>\n    <tr>\n      <th>Spectre</th>\n      <td>Christoph Waltz</td>\n      <td>Rory Kinnear</td>\n      <td>Stephanie Sigman</td>\n    </tr>\n    <tr>\n      <th>The Dark Knight Rises</th>\n      <td>Tom Hardy</td>\n      <td>Christian Bale</td>\n      <td>Joseph Gordon-Levitt</td>\n    </tr>\n    <tr>\n      <th>Star Wars: Episode VII - The Force Awakens</th>\n      <td>Doug Walker</td>\n      <td>Rob Walker</td>\n      <td>NaN</td>\n    </tr>\n  </tbody>\n</table>\n</div>"
     },
     "metadata": {},
     "execution_count": 25
    }
   ],
   "source": [
    "movie_data[cols].set_index('movie_title').head()"
   ]
  },
  {
   "cell_type": "code",
   "execution_count": 26,
   "metadata": {},
   "outputs": [
    {
     "output_type": "execute_result",
     "data": {
      "text/plain": "movie_title                                            \nAvatar                                     actor_1_name         CCH Pounder\n                                           actor_2_name    Joel David Moore\n                                           actor_3_name           Wes Studi\nPirates of the Caribbean: At World's End   actor_1_name         Johnny Depp\n                                           actor_2_name       Orlando Bloom\ndtype: object"
     },
     "metadata": {},
     "execution_count": 26
    }
   ],
   "source": [
    "movie_data[cols].set_index('movie_title').stack().head()"
   ]
  },
  {
   "cell_type": "code",
   "execution_count": 27,
   "metadata": {},
   "outputs": [
    {
     "output_type": "execute_result",
     "data": {
      "text/plain": "                                 movie_title       level_1                 0\n0                                    Avatar   actor_1_name       CCH Pounder\n1                                    Avatar   actor_2_name  Joel David Moore\n2                                    Avatar   actor_3_name         Wes Studi\n3  Pirates of the Caribbean: At World's End   actor_1_name       Johnny Depp\n4  Pirates of the Caribbean: At World's End   actor_2_name     Orlando Bloom",
      "text/html": "<div>\n<style scoped>\n    .dataframe tbody tr th:only-of-type {\n        vertical-align: middle;\n    }\n\n    .dataframe tbody tr th {\n        vertical-align: top;\n    }\n\n    .dataframe thead th {\n        text-align: right;\n    }\n</style>\n<table border=\"1\" class=\"dataframe\">\n  <thead>\n    <tr style=\"text-align: right;\">\n      <th></th>\n      <th>movie_title</th>\n      <th>level_1</th>\n      <th>0</th>\n    </tr>\n  </thead>\n  <tbody>\n    <tr>\n      <th>0</th>\n      <td>Avatar</td>\n      <td>actor_1_name</td>\n      <td>CCH Pounder</td>\n    </tr>\n    <tr>\n      <th>1</th>\n      <td>Avatar</td>\n      <td>actor_2_name</td>\n      <td>Joel David Moore</td>\n    </tr>\n    <tr>\n      <th>2</th>\n      <td>Avatar</td>\n      <td>actor_3_name</td>\n      <td>Wes Studi</td>\n    </tr>\n    <tr>\n      <th>3</th>\n      <td>Pirates of the Caribbean: At World's End</td>\n      <td>actor_1_name</td>\n      <td>Johnny Depp</td>\n    </tr>\n    <tr>\n      <th>4</th>\n      <td>Pirates of the Caribbean: At World's End</td>\n      <td>actor_2_name</td>\n      <td>Orlando Bloom</td>\n    </tr>\n  </tbody>\n</table>\n</div>"
     },
     "metadata": {},
     "execution_count": 27
    }
   ],
   "source": [
    "movie_data[cols].set_index('movie_title').stack().reset_index().head()"
   ]
  },
  {
   "cell_type": "code",
   "execution_count": 28,
   "metadata": {},
   "outputs": [],
   "source": [
    "df = movie_data[cols].set_index('movie_title').stack().reset_index().head(10)"
   ]
  },
  {
   "cell_type": "code",
   "execution_count": 30,
   "metadata": {},
   "outputs": [],
   "source": [
    "df.to_csv('filename.csv')"
   ]
  },
  {
   "cell_type": "code",
   "execution_count": null,
   "metadata": {},
   "outputs": [],
   "source": []
  }
 ]
}