{
 "metadata": {
  "language_info": {
   "codemirror_mode": {
    "name": "ipython",
    "version": 3
   },
   "file_extension": ".py",
   "mimetype": "text/x-python",
   "name": "python",
   "nbconvert_exporter": "python",
   "pygments_lexer": "ipython3",
   "version": "3.6.9-final"
  },
  "orig_nbformat": 2,
  "kernelspec": {
   "name": "python_defaultSpec_1601095022558",
   "display_name": "Python 3.6.9 64-bit"
  }
 },
 "nbformat": 4,
 "nbformat_minor": 2,
 "cells": [
  {
   "cell_type": "code",
   "execution_count": 4,
   "metadata": {},
   "outputs": [],
   "source": [
    "import pandas as pd"
   ]
  },
  {
   "cell_type": "code",
   "execution_count": 5,
   "metadata": {},
   "outputs": [],
   "source": [
    "lst_of_lists = [\n",
    "    [1,'apple','watch'],\n",
    "    [2,'orange','soda'],\n",
    "    [3,'banana','hammer'],\n",
    "    [4,'kiwi','rodeo']\n",
    "]"
   ]
  },
  {
   "cell_type": "code",
   "execution_count": 6,
   "metadata": {},
   "outputs": [
    {
     "output_type": "execute_result",
     "data": {
      "text/plain": "   rn   val01   val02\n0   1   apple   watch\n1   2  orange    soda\n2   3  banana  hammer\n3   4    kiwi   rodeo",
      "text/html": "<div>\n<style scoped>\n    .dataframe tbody tr th:only-of-type {\n        vertical-align: middle;\n    }\n\n    .dataframe tbody tr th {\n        vertical-align: top;\n    }\n\n    .dataframe thead th {\n        text-align: right;\n    }\n</style>\n<table border=\"1\" class=\"dataframe\">\n  <thead>\n    <tr style=\"text-align: right;\">\n      <th></th>\n      <th>rn</th>\n      <th>val01</th>\n      <th>val02</th>\n    </tr>\n  </thead>\n  <tbody>\n    <tr>\n      <th>0</th>\n      <td>1</td>\n      <td>apple</td>\n      <td>watch</td>\n    </tr>\n    <tr>\n      <th>1</th>\n      <td>2</td>\n      <td>orange</td>\n      <td>soda</td>\n    </tr>\n    <tr>\n      <th>2</th>\n      <td>3</td>\n      <td>banana</td>\n      <td>hammer</td>\n    </tr>\n    <tr>\n      <th>3</th>\n      <td>4</td>\n      <td>kiwi</td>\n      <td>rodeo</td>\n    </tr>\n  </tbody>\n</table>\n</div>"
     },
     "metadata": {},
     "execution_count": 6
    }
   ],
   "source": [
    "df = pd.DataFrame(lst_of_lists)\n",
    "df.columns = ['rn','val01','val02']\n",
    "df.head()"
   ]
  },
  {
   "cell_type": "code",
   "execution_count": 12,
   "metadata": {},
   "outputs": [
    {
     "output_type": "execute_result",
     "data": {
      "text/plain": "\"apple','orange','banana','kiwi\""
     },
     "metadata": {},
     "execution_count": 12
    }
   ],
   "source": [
    "v1 = df['val01'].tolist()\n",
    "v1 = \"','\".join(map(str,v1))\n",
    "v1"
   ]
  },
  {
   "cell_type": "code",
   "execution_count": 14,
   "metadata": {
    "tags": []
   },
   "outputs": [
    {
     "output_type": "stream",
     "name": "stdout",
     "text": "'apple','orange','banana','kiwi'\n"
    }
   ],
   "source": [
    "print(f\"'{v1}'\")"
   ]
  },
  {
   "cell_type": "code",
   "execution_count": null,
   "metadata": {},
   "outputs": [],
   "source": []
  }
 ]
}