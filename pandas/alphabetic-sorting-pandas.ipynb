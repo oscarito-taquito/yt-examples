{
 "metadata": {
  "language_info": {
   "codemirror_mode": {
    "name": "ipython",
    "version": 3
   },
   "file_extension": ".py",
   "mimetype": "text/x-python",
   "name": "python",
   "nbconvert_exporter": "python",
   "pygments_lexer": "ipython3",
   "version": "3.6.9-final"
  },
  "orig_nbformat": 2,
  "kernelspec": {
   "name": "python_defaultSpec_1601095000775",
   "display_name": "Python 3.6.9 64-bit"
  }
 },
 "nbformat": 4,
 "nbformat_minor": 2,
 "cells": [
  {
   "cell_type": "code",
   "execution_count": 1,
   "metadata": {},
   "outputs": [],
   "source": [
    "import pandas as pd"
   ]
  },
  {
   "cell_type": "code",
   "execution_count": 2,
   "metadata": {},
   "outputs": [],
   "source": [
    "lst_table = [\n",
    "    [1,'apple','watch'],\n",
    "    [2,'orange','soda'],\n",
    "    [3,'banana','hammer'],\n",
    "    [4,'kiwi','rodeo']\n",
    "]"
   ]
  },
  {
   "cell_type": "code",
   "execution_count": 3,
   "metadata": {},
   "outputs": [
    {
     "output_type": "execute_result",
     "data": {
      "text/plain": "   row_num   fruit rand_word\n0        1   apple     watch\n1        2  orange      soda\n2        3  banana    hammer\n3        4    kiwi     rodeo",
      "text/html": "<div>\n<style scoped>\n    .dataframe tbody tr th:only-of-type {\n        vertical-align: middle;\n    }\n\n    .dataframe tbody tr th {\n        vertical-align: top;\n    }\n\n    .dataframe thead th {\n        text-align: right;\n    }\n</style>\n<table border=\"1\" class=\"dataframe\">\n  <thead>\n    <tr style=\"text-align: right;\">\n      <th></th>\n      <th>row_num</th>\n      <th>fruit</th>\n      <th>rand_word</th>\n    </tr>\n  </thead>\n  <tbody>\n    <tr>\n      <th>0</th>\n      <td>1</td>\n      <td>apple</td>\n      <td>watch</td>\n    </tr>\n    <tr>\n      <th>1</th>\n      <td>2</td>\n      <td>orange</td>\n      <td>soda</td>\n    </tr>\n    <tr>\n      <th>2</th>\n      <td>3</td>\n      <td>banana</td>\n      <td>hammer</td>\n    </tr>\n    <tr>\n      <th>3</th>\n      <td>4</td>\n      <td>kiwi</td>\n      <td>rodeo</td>\n    </tr>\n  </tbody>\n</table>\n</div>"
     },
     "metadata": {},
     "execution_count": 3
    }
   ],
   "source": [
    "df = pd.DataFrame(lst_table)\n",
    "df.columns = ['row_num','fruit','rand_word']\n",
    "df.head()"
   ]
  },
  {
   "cell_type": "code",
   "execution_count": 27,
   "metadata": {},
   "outputs": [],
   "source": [
    "df.sort_values(by='fruit', inplace=True)"
   ]
  },
  {
   "cell_type": "code",
   "execution_count": 25,
   "metadata": {},
   "outputs": [],
   "source": [
    "df.sort_values(by=['row_num','rand_word'], inplace=True)"
   ]
  },
  {
   "cell_type": "code",
   "execution_count": 28,
   "metadata": {},
   "outputs": [
    {
     "output_type": "execute_result",
     "data": {
      "text/plain": "   row_num   fruit rand_word\n0        1   apple     watch\n2        3  banana    hammer\n3        4    kiwi     rodeo\n1        2  orange      soda",
      "text/html": "<div>\n<style scoped>\n    .dataframe tbody tr th:only-of-type {\n        vertical-align: middle;\n    }\n\n    .dataframe tbody tr th {\n        vertical-align: top;\n    }\n\n    .dataframe thead th {\n        text-align: right;\n    }\n</style>\n<table border=\"1\" class=\"dataframe\">\n  <thead>\n    <tr style=\"text-align: right;\">\n      <th></th>\n      <th>row_num</th>\n      <th>fruit</th>\n      <th>rand_word</th>\n    </tr>\n  </thead>\n  <tbody>\n    <tr>\n      <th>0</th>\n      <td>1</td>\n      <td>apple</td>\n      <td>watch</td>\n    </tr>\n    <tr>\n      <th>2</th>\n      <td>3</td>\n      <td>banana</td>\n      <td>hammer</td>\n    </tr>\n    <tr>\n      <th>3</th>\n      <td>4</td>\n      <td>kiwi</td>\n      <td>rodeo</td>\n    </tr>\n    <tr>\n      <th>1</th>\n      <td>2</td>\n      <td>orange</td>\n      <td>soda</td>\n    </tr>\n  </tbody>\n</table>\n</div>"
     },
     "metadata": {},
     "execution_count": 28
    }
   ],
   "source": [
    "df"
   ]
  },
  {
   "cell_type": "code",
   "execution_count": null,
   "metadata": {},
   "outputs": [],
   "source": []
  }
 ]
}